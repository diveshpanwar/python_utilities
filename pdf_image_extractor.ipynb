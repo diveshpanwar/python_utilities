{
 "cells": [
  {
   "cell_type": "code",
   "execution_count": 2,
   "metadata": {},
   "outputs": [
    {
     "name": "stdout",
     "output_type": "stream",
     "text": [
      "Collecting PyPDF2\n",
      "  Downloading PyPDF2-1.26.0.tar.gz (77 kB)\n",
      "Building wheels for collected packages: PyPDF2\n",
      "  Building wheel for PyPDF2 (setup.py): started\n",
      "  Building wheel for PyPDF2 (setup.py): finished with status 'done'\n",
      "  Created wheel for PyPDF2: filename=PyPDF2-1.26.0-py3-none-any.whl size=61087 sha256=d628cde1bc4e50afe0cecf94260228c543c3b14eea75e1690884083ca823441b\n",
      "  Stored in directory: c:\\users\\dives\\appdata\\local\\pip\\cache\\wheels\\b1\\1a\\8f\\a4c34be976825a2f7948d0fa40907598d69834f8ab5889de11\n",
      "Successfully built PyPDF2\n",
      "Installing collected packages: PyPDF2\n",
      "Successfully installed PyPDF2-1.26.0\n"
     ]
    }
   ],
   "source": [
    "!pip install PyPDF2"
   ]
  },
  {
   "cell_type": "code",
   "execution_count": 15,
   "metadata": {},
   "outputs": [
    {
     "name": "stdout",
     "output_type": "stream",
     "text": [
      "Requirement already satisfied: pillow in c:\\programdata\\anaconda3\\lib\\site-packages (7.2.0)\n"
     ]
    }
   ],
   "source": [
    "!pip install pillow"
   ]
  },
  {
   "cell_type": "code",
   "execution_count": 1,
   "metadata": {},
   "outputs": [],
   "source": [
    "from PIL import Image\n",
    "from PyPDF2 import PdfFileReader, generic\n",
    "from io import BytesIO\n",
    "from typing import List\n",
    "import zlib\n",
    "import sys\n",
    "import struct"
   ]
  },
  {
   "cell_type": "code",
   "execution_count": 12,
   "metadata": {},
   "outputs": [
    {
     "name": "stdout",
     "output_type": "stream",
     "text": [
      "2020-09-01-18-19-33-277220\n"
     ]
    }
   ],
   "source": [
    "import datetime\n",
    "print (('-'.join(str(datetime.datetime.utcnow()).split(' ')).replace(':', '-').replace('.', '-')))"
   ]
  },
  {
   "cell_type": "code",
   "execution_count": 13,
   "metadata": {},
   "outputs": [],
   "source": [
    "def tiff_header_for_CCITT(width:int, height:int, img_size:int, CCITT_group:int=4) -> bytes:\n",
    "    tiff_header_struct = '<' + '2s' + 'h' + 'l' + 'h' + 'hhll' * 8 + 'l'\n",
    "    return struct.pack(tiff_header_struct,\n",
    "                       b'II',\n",
    "                       42,\n",
    "                       8,\n",
    "                       8,\n",
    "                       256, 4, 1, width,\n",
    "                       257, 4, 1, height,\n",
    "                       258, 3, 1, 1,\n",
    "                       259, 3, 1, CCITT_group,\n",
    "                       262, 3, 1, 0,\n",
    "                       273, 4, 1, struct.calcsize(tiff_header_struct),\n",
    "                       278, 4, 1, height,\n",
    "                       279, 4, 1, img_size,\n",
    "                       0\n",
    "                       )\n",
    "\n",
    "def object_to_images(objects:generic.DictionaryObject) -> List:\n",
    "    images:List[Image] = []\n",
    "\n",
    "    for idx, key in enumerate(objects):\n",
    "        obj = objects[key] # object est un mot-clé réservé\n",
    "\n",
    "        if '/Resources' in obj and '/XObject' in obj['/Resources']: # l'objet est un conteneur\n",
    "            images += object_to_images(obj[\"/Resources\"][\"/XObject\"].getObject()) # récursion\n",
    "        elif obj['/Subtype'] == '/Image':\n",
    "#             print(obj)\n",
    "            if \"/ImageMask\" in obj: # masque d'image, ignoré\n",
    "                continue\n",
    "\n",
    "            img_modes = {'/DeviceRGB': 'RGB',\n",
    "                         '/DefaultRGB': 'RGB',\n",
    "                         '/DeviceCMYK': 'CMYK',\n",
    "                         '/DefaultCMYK': 'CMYK',\n",
    "                         '/DeviceGray': 'L',\n",
    "                         '/DefaultGray': 'L',\n",
    "                         '/Indexed': 'P'}\n",
    "\n",
    "            cspace = obj.get('/ColorSpace').getObject()\n",
    "\n",
    "            indexed = False\n",
    "\n",
    "            if cspace:\n",
    "                if isinstance(cspace, generic.ArrayObject):\n",
    "                    if cspace[0] == '/ICCBased':\n",
    "                        color_map = cspace[1].getObject()['/N']\n",
    "                        if color_map == 1:\n",
    "                            colorspace = \"P\"\n",
    "                        elif color_map == 3:\n",
    "                            colorspace = \"RGB\"\n",
    "                        elif color_map == 4:\n",
    "                            colorspace = \"CMYK\"\n",
    "                    elif cspace[0] == \"/Indexed\":\n",
    "                        c, b, h, l = [v.getObject() for v in cspace]\n",
    "                        indexed = True\n",
    "                        colorspace = img_modes[c]\n",
    "                else:\n",
    "                    colorspace = img_modes[cspace]\n",
    "\n",
    "            width = obj['/Width']\n",
    "            height = obj['/Height']\n",
    "\n",
    "            if \"/FlateDecode\" in obj[\"/Filter\"]: # Compressé avec zlib\n",
    "                data = zlib.decompress(obj._data)\n",
    "            else:\n",
    "                data = obj._data\n",
    "\n",
    "            if \"/DCTDecode\" in obj[\"/Filter\"]: # JPEG, rien à faire\n",
    "                img = Image.open(BytesIO(data))\n",
    "                images.append(img)\n",
    "            elif \"/JPXDecode\" in obj[\"/Filter\"]: # JPEG 2000, rien à faire\n",
    "                img = Image.open(BytesIO(data))\n",
    "                images.append(img)\n",
    "            elif \"CCITTFaxDecode\" in obj[\"/Filter\"]: # TIFF, rajouter l'en-tête\n",
    "                if obj['/DecodeParms']['/K'] == -1:\n",
    "                    CCITT_group = 4\n",
    "                else:\n",
    "                    CCITT_group = 3\n",
    "\n",
    "                img_size = len(data)\n",
    "                tiff_header = tiff_header_for_CCITT(width, height, img_size, CCITT_group)\n",
    "\n",
    "                data = tiff_header + data\n",
    "                img = Image.open(BytesIO(data))\n",
    "                images.append(img)\n",
    "            else:\n",
    "                img = Image.frombytes(colorspace, (width, height), data)\n",
    "                if indexed:\n",
    "                    img.putpalette(l.getData())\n",
    "                    img = img.convert('RGB')\n",
    "                images.append(img)\n",
    "\n",
    "    return images\n",
    "\n",
    "def pdf_to_images(filename:str) -> List:\n",
    "    images:List[Image] = []\n",
    "\n",
    "    file = PdfFileReader(open(filename, \"rb\"))\n",
    "\n",
    "    nPages = file.getNumPages()\n",
    "\n",
    "    for i in range(nPages):\n",
    "        page = file.getPage(i)\n",
    "        try:\n",
    "            root_objects = page[\"/Resources\"][\"/XObject\"].getObject() # devrait s'appeler getObjects...\n",
    "        except KeyError:\n",
    "            continue\n",
    "        images += object_to_images(root_objects)\n",
    "\n",
    "    return images\n",
    "\n",
    "if __name__ == \"__main__\":\n",
    "    file_name = \"file_name_here\"\n",
    "\n",
    "    images = pdf_to_images(file_name)\n",
    "\n",
    "    for image in images:\n",
    "        image.save(('-'.join(str(datetime.datetime.utcnow()).split(' ')).replace(':', '-').replace('.', '-'))+\".jpg\")\n",
    "        pass"
   ]
  },
  {
   "cell_type": "code",
   "execution_count": null,
   "metadata": {},
   "outputs": [],
   "source": []
  }
 ],
 "metadata": {
  "kernelspec": {
   "display_name": "Python 3",
   "language": "python",
   "name": "python3"
  },
  "language_info": {
   "codemirror_mode": {
    "name": "ipython",
    "version": 3
   },
   "file_extension": ".py",
   "mimetype": "text/x-python",
   "name": "python",
   "nbconvert_exporter": "python",
   "pygments_lexer": "ipython3",
   "version": "3.8.3"
  }
 },
 "nbformat": 4,
 "nbformat_minor": 4
}
